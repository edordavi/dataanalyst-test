{
 "cells": [
  {
   "cell_type": "code",
   "execution_count": 102,
   "id": "super-somewhere",
   "metadata": {},
   "outputs": [],
   "source": [
    "###1st step\n",
    "import pandas as pd\n",
    "import numpy as np\n",
    "\n",
    "import cx_Oracle as ora\n",
    "import pyodbc\n",
    "\n",
    "import datetime"
   ]
  },
  {
   "cell_type": "code",
   "execution_count": 103,
   "id": "outer-method",
   "metadata": {},
   "outputs": [],
   "source": [
    "piloto_anterior = pd.read_csv('02_piloto_whitelist_etiquetado.csv',sep='\\t') ### Datos de los pilotos anteriores\n",
    "predict_base = pd.read_csv('prp_complete_predict_wallet211115.csv') ### Solo datos de predicción\n",
    "real_base = pd.read_csv('prp_complete_real_wallet211115.csv') ### Con los datos reales\n",
    "\n",
    "n01_pilot_prob = 0.0000001\n",
    "n02_pilot_prob = 0.0000010\n",
    "n03_pilot_prob = 0.0000100\n",
    "\n",
    "predict_base.loc[predict_base['p1'] < n02_pilot_prob, 'predict2'] = 1\n",
    "predict_base.loc[predict_base['p1'] >=n02_pilot_prob, 'predict2'] = 0\n",
    "\n",
    "predict_base['predict2'] = predict_base['predict2'].astype('category')\n",
    "\n",
    "joined_base = predict_base.merge(real_base, left_on='Unnamed: 0', right_on='Unnamed: 0', how='inner', indicator=False)\n",
    "joined_base = joined_base.merge(piloto_anterior, left_on='msisdn', right_on='Telefono', how='outer', indicator=True)\n",
    "\n",
    "joined_base['Telefono'] = np.where(joined_base['Telefono'].isnull(), joined_base['msisdn'], joined_base['Telefono'])\n",
    "joined_base['msisdn'] = np.where(joined_base['msisdn'].isnull(), joined_base['Telefono'], joined_base['msisdn'])\n",
    "joined_base['predict2'] = np.where(joined_base['predict2'].isnull(), 1, joined_base['predict2'])\n",
    "\n",
    "joined_base.loc[(joined_base['Base'].isnull()) & (joined_base['predict2']==1) & (joined_base['potential_bancarizado']==1), 'Base'] = 'Predictor3'"
   ]
  },
  {
   "cell_type": "code",
   "execution_count": 107,
   "id": "animal-shoot",
   "metadata": {},
   "outputs": [
    {
     "data": {
      "text/plain": [
       "Base\n",
       "Empleados      1801\n",
       "Inicial       23139\n",
       "Predictor     20212\n",
       "Predictor2     8514\n",
       "Predictor3     9657\n",
       "Name: msisdn, dtype: int64"
      ]
     },
     "execution_count": 107,
     "metadata": {},
     "output_type": "execute_result"
    }
   ],
   "source": [
    "#joined_base.count()\n",
    "#joined_base[joined_base['predict2']==1].groupby('Base').msisdn.count()\n",
    "#joined_base.groupby(['Base','predict2']).msisdn.count()\n",
    "joined_base[joined_base['Base'].notnull()].groupby('Base').msisdn.count()\n",
    "\n",
    "##EXPORTING BASE TO CSV FOR SHARING WITH RA Team:\n",
    "#joined_base[joined_base['Base'].notnull()][['Base','Telefono']].drop_duplicates(subset=['Telefono']).sort_values(by=['Base']).to_csv('03_piloto_whitelist_etiquetado.csv', index=False)\n",
    "\n",
    "\n",
    "#joined_base[joined_base['predict2']==1].msisdn.count()\n",
    "#joined_base.head()\n",
    "#joined_base[(joined_base['predict2']==0) & (joined_base['Base']=='Predictor3')].count()\n",
    "#joined_base[(joined_base['predict2']==1)].head()\n",
    "#joined_base[(joined_base['predict2'].isnull())].groupby('Base').msisdn.count()"
   ]
  },
  {
   "cell_type": "code",
   "execution_count": 132,
   "id": "danish-jamaica",
   "metadata": {},
   "outputs": [
    {
     "ename": "Error",
     "evalue": "('HY000', '[HY000] [Cloudera][DriverSupport] (1110) Unexpected response received from server. Please ensure the server host and port specified for the connection are correct and confirm if SSL should be enabled for the connection. (1110) (SQLDriverConnect); [HY000] [Cloudera][DriverSupport] (1110) Unexpected response received from server. Please ensure the server host and port specified for the connection are correct and confirm if SSL should be enabled for the connection. (1110)')",
     "output_type": "error",
     "traceback": [
      "\u001b[1;31m---------------------------------------------------------------------------\u001b[0m",
      "\u001b[1;31mError\u001b[0m                                     Traceback (most recent call last)",
      "\u001b[1;32m<ipython-input-132-13df3e200a6e>\u001b[0m in \u001b[0;36m<module>\u001b[1;34m\u001b[0m\n\u001b[0;32m      2\u001b[0m \u001b[1;31m##### READING SUBS DATA FROM DB:\u001b[0m\u001b[1;33m\u001b[0m\u001b[1;33m\u001b[0m\u001b[1;33m\u001b[0m\u001b[0m\n\u001b[0;32m      3\u001b[0m \u001b[1;33m\u001b[0m\u001b[0m\n\u001b[1;32m----> 4\u001b[1;33m \u001b[0mcxn\u001b[0m \u001b[1;33m=\u001b[0m \u001b[0mpyodbc\u001b[0m\u001b[1;33m.\u001b[0m\u001b[0mconnect\u001b[0m\u001b[1;33m(\u001b[0m\u001b[1;34m\"DSN=hivedwh\"\u001b[0m\u001b[1;33m,\u001b[0m\u001b[0mautocommit\u001b[0m\u001b[1;33m=\u001b[0m\u001b[1;32mTrue\u001b[0m\u001b[1;33m)\u001b[0m\u001b[1;33m\u001b[0m\u001b[1;33m\u001b[0m\u001b[0m\n\u001b[0m\u001b[0;32m      5\u001b[0m \u001b[1;33m\u001b[0m\u001b[0m\n\u001b[0;32m      6\u001b[0m \u001b[0mdataList\u001b[0m \u001b[1;33m=\u001b[0m \u001b[1;33m[\u001b[0m\u001b[1;33m]\u001b[0m\u001b[1;33m\u001b[0m\u001b[1;33m\u001b[0m\u001b[0m\n",
      "\u001b[1;31mError\u001b[0m: ('HY000', '[HY000] [Cloudera][DriverSupport] (1110) Unexpected response received from server. Please ensure the server host and port specified for the connection are correct and confirm if SSL should be enabled for the connection. (1110) (SQLDriverConnect); [HY000] [Cloudera][DriverSupport] (1110) Unexpected response received from server. Please ensure the server host and port specified for the connection are correct and confirm if SSL should be enabled for the connection. (1110)')"
     ]
    }
   ],
   "source": [
    "###2nd step\n",
    "##### READING SUBS DATA FROM DB:\n",
    "\n",
    "cxn = pyodbc.connect(\"DSN=hivedwh\",autocommit=True)\n",
    "\n",
    "dataList = []\n",
    "\n",
    "with open('query_subs_db.sql', 'r') as file:\n",
    "    query = file.read().replace('\\n', '')\n",
    "\n",
    "i = 1\n",
    "    \n",
    "for chunk in pd.read_sql_query(sql=query,con=cxn, chunksize = 200000):\n",
    "    dataList.append(chunk)\n",
    "    i = i+1\n",
    "\n",
    "print(\"######### Loading Data Frame #########\")\n",
    "\n",
    "data = pd.concat(dataList, ignore_index=True)\n",
    "print(len(data))\n",
    "print(\"######### Fin #########\")\n",
    "\n",
    "dataList = []\n",
    "\n",
    "#data.telefono = data.telefono.astype(int)\n",
    "\n",
    "#### Reading data from model output:\n",
    "\n",
    "piloto_anterior = pd.read_csv('02_piloto_whitelist_etiquetado.csv',sep='\\t') ### Datos de los pilotos anteriores\n",
    "predict_base = pd.read_csv('prp_complete_predict_wallet211115.csv') ### Solo datos de predicción\n",
    "real_base = pd.read_csv('prp_complete_real_wallet211115.csv') ### Con los datos reales\n",
    "\n",
    "n01_pilot_prob = 0.0000001\n",
    "n02_pilot_prob = 0.0000010\n",
    "n03_pilot_prob = 0.0000100\n",
    "\n",
    "predict_base.loc[predict_base['p1'] < n02_pilot_prob, 'predict2'] = 1\n",
    "predict_base.loc[predict_base['p1'] >=n02_pilot_prob, 'predict2'] = 0\n",
    "\n",
    "predict_base['predict2'] = predict_base['predict2'].astype('category')\n",
    "\n",
    "joined_base = predict_base.merge(real_base, left_on='Unnamed: 0', right_on='Unnamed: 0', how='inner', indicator=False)\n",
    "joined_base = joined_base.merge(piloto_anterior, left_on='msisdn', right_on='Telefono', how='outer', indicator=True)\n",
    "\n",
    "joined_base['Telefono'] = np.where(joined_base['Telefono'].isnull(), joined_base['msisdn'], joined_base['Telefono'])\n",
    "joined_base['msisdn'] = np.where(joined_base['msisdn'].isnull(), joined_base['Telefono'], joined_base['msisdn'])\n",
    "joined_base['predict2'] = np.where(joined_base['predict2'].isnull(), 1, joined_base['predict2'])\n",
    "\n",
    "joined_base.loc[(joined_base['Base'].isnull()) & (joined_base['predict2']==1) & (joined_base['potential_bancarizado']==1), 'Base'] = 'Predictor3'\n",
    "\n",
    "#predict_base.head()\n",
    "#real_base.head()\n",
    "#joined_base.head()\n",
    "\n",
    "#data.head()"
   ]
  },
  {
   "cell_type": "code",
   "execution_count": 131,
   "id": "white-mechanism",
   "metadata": {},
   "outputs": [
    {
     "data": {
      "text/plain": [
       "Base        flag\n",
       "Empleados   1         1801\n",
       "Inicial     1        23073\n",
       "NA          0       428749\n",
       "Predictor   1        20193\n",
       "Predictor2  1         8513\n",
       "Predictor3  1         9653\n",
       "Name: msisdn, dtype: int64"
      ]
     },
     "execution_count": 131,
     "metadata": {},
     "output_type": "execute_result"
    }
   ],
   "source": [
    "# buscando la base final para subir a Oracle:\n",
    "joined_base.loc[joined_base['Base'].isnull(),'Base'] = 'NA'\n",
    "\n",
    "joined_base.flag = 0\n",
    "joined_base.loc[(joined_base['Base']=='Empleados') | (joined_base['Base']=='Inicial') | (joined_base['Base']=='Predictor') | (joined_base['Base']=='Predictor2') | (joined_base['Base']=='Predictor3'),'flag'] = 1\n",
    "#joined_base[(joined_base['Base']=='Empleados') | (joined_base['Base']=='Inicial') | (joined_base['Base']=='Predictor') | (joined_base['Base']=='Predictor2') | (joined_base['Base']=='Predictor3')].drop_duplicates(subset=['msisdn']).groupby('flag').msisdn.count()\n",
    "#joined_base.drop_duplicates(subset=['msisdn']).groupby(['Base','predict2']).msisdn.count()\n",
    "joined_base.drop_duplicates(subset=['msisdn']).groupby(['Base','flag']).msisdn.count()\n",
    "#joined_base[(joined_base['Base']=='Empleados') | (joined_base['Base']=='Inicial') | (joined_base['Base']=='Predictor') | (joined_base['Base']=='Predictor2') | (joined_base['Base']=='Predictor3')].drop_duplicates(subset=['msisdn']).count()\n",
    "#joined_base.loc[joined_base['Base'].isnull(),'flag'].head()"
   ]
  },
  {
   "cell_type": "code",
   "execution_count": 104,
   "id": "similar-foundation",
   "metadata": {},
   "outputs": [
    {
     "name": "stdout",
     "output_type": "stream",
     "text": [
      "Time Elapsed: 0:01:38.192660\n"
     ]
    }
   ],
   "source": [
    "###3rd and last step\n",
    "\n",
    "#### FILLING ALL Bases with no Base\n",
    "joined_base.loc[joined_base['Base'].isnull(),'Base'] = 'NA'\n",
    "\n",
    "#### Refactoring flag, putting 0 in all using, in the next step I will be putting 1 for the bases\n",
    "joined_base.flag = 0\n",
    "#### Putting 1 to users in the choosen bases:\n",
    "joined_base.loc[(joined_base['Base']=='Empleados') | (joined_base['Base']=='Inicial') | (joined_base['Base']=='Predictor') | (joined_base['Base']=='Predictor2') | (joined_base['Base']=='Predictor3'),'flag'] = 1\n",
    "\n",
    "joined_base = joined_base.drop_duplicates(subset=['telefono'])\n",
    "\n",
    "###### BEGIN EXPORTING:\n",
    "\n",
    "user = 'BI'\n",
    "passw = 'dwhprodbi20$'\n",
    "server = 'srvdwhdb.celtel.net:1521/dwh.celtel.net'\n",
    "\n",
    "con = ora.connect(user, passw, server)\n",
    "cur = con.cursor()\n",
    "\n",
    "a=datetime.datetime.now()\n",
    "\n",
    "cur.execute('delete from bi.cc_cashin_model_output')\n",
    "\n",
    "query = \"insert into bi.cc_cashin_model_output(telefono, flag) values(:1,:2)\"\n",
    "\n",
    "cur.executemany(query,joined_base[['telefono','predict2']].head(6000000).values.tolist())\n",
    "\n",
    "#### Test lines:\n",
    "cur.execute('delete from bi.cc_cashin_model_output where telefono = 97047014')\n",
    "cur.execute('insert into bi.cc_cashin_model_output(telefono, flag) values(97047014,0)')\n",
    "\n",
    "cur.execute('delete from bi.cc_cashin_model_output where telefono = 98284795')\n",
    "cur.execute('insert into bi.cc_cashin_model_output(telefono, flag) values(98284795,1)')\n",
    "\n",
    "con.commit()\n",
    "\n",
    "con.close()\n",
    "\n",
    "b=datetime.datetime.now()\n",
    "\n",
    "print('Time Elapsed: {}'.format(b-a))"
   ]
  }
 ],
 "metadata": {
  "kernelspec": {
   "display_name": "Python 3",
   "language": "python",
   "name": "python3"
  },
  "language_info": {
   "codemirror_mode": {
    "name": "ipython",
    "version": 3
   },
   "file_extension": ".py",
   "mimetype": "text/x-python",
   "name": "python",
   "nbconvert_exporter": "python",
   "pygments_lexer": "ipython3",
   "version": "3.8.5"
  }
 },
 "nbformat": 4,
 "nbformat_minor": 5
}
