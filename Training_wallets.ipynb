{
 "cells": [
  {
   "cell_type": "code",
   "execution_count": 9,
   "id": "informed-germany",
   "metadata": {},
   "outputs": [
    {
     "name": "stdout",
     "output_type": "stream",
     "text": [
      "Checking whether there is an H2O instance running at http://localhost:54321 . connected.\n",
      "Warning: Your H2O cluster version is too old (9 months and 14 days)! Please download and install the latest version from http://h2o.ai/download/\n"
     ]
    },
    {
     "data": {
      "text/html": [
       "<div style=\"overflow:auto\"><table style=\"width:50%\"><tr><td>H2O_cluster_uptime:</td>\n",
       "<td>2 hours 41 mins</td></tr>\n",
       "<tr><td>H2O_cluster_timezone:</td>\n",
       "<td>America/Los_Angeles</td></tr>\n",
       "<tr><td>H2O_data_parsing_timezone:</td>\n",
       "<td>UTC</td></tr>\n",
       "<tr><td>H2O_cluster_version:</td>\n",
       "<td>3.32.0.4</td></tr>\n",
       "<tr><td>H2O_cluster_version_age:</td>\n",
       "<td>9 months and 14 days !!!</td></tr>\n",
       "<tr><td>H2O_cluster_name:</td>\n",
       "<td>H2O_from_python_emil_ordonez_b7yfc2</td></tr>\n",
       "<tr><td>H2O_cluster_total_nodes:</td>\n",
       "<td>1</td></tr>\n",
       "<tr><td>H2O_cluster_free_memory:</td>\n",
       "<td>10.54 Gb</td></tr>\n",
       "<tr><td>H2O_cluster_total_cores:</td>\n",
       "<td>4</td></tr>\n",
       "<tr><td>H2O_cluster_allowed_cores:</td>\n",
       "<td>4</td></tr>\n",
       "<tr><td>H2O_cluster_status:</td>\n",
       "<td>locked, healthy</td></tr>\n",
       "<tr><td>H2O_connection_url:</td>\n",
       "<td>http://localhost:54321</td></tr>\n",
       "<tr><td>H2O_connection_proxy:</td>\n",
       "<td>{\"http\": null, \"https\": null}</td></tr>\n",
       "<tr><td>H2O_internal_security:</td>\n",
       "<td>False</td></tr>\n",
       "<tr><td>H2O_API_Extensions:</td>\n",
       "<td>Amazon S3, Algos, AutoML, Core V3, TargetEncoder, Core V4</td></tr>\n",
       "<tr><td>Python_version:</td>\n",
       "<td>3.8.5 final</td></tr></table></div>"
      ],
      "text/plain": [
       "--------------------------  ---------------------------------------------------------\n",
       "H2O_cluster_uptime:         2 hours 41 mins\n",
       "H2O_cluster_timezone:       America/Los_Angeles\n",
       "H2O_data_parsing_timezone:  UTC\n",
       "H2O_cluster_version:        3.32.0.4\n",
       "H2O_cluster_version_age:    9 months and 14 days !!!\n",
       "H2O_cluster_name:           H2O_from_python_emil_ordonez_b7yfc2\n",
       "H2O_cluster_total_nodes:    1\n",
       "H2O_cluster_free_memory:    10.54 Gb\n",
       "H2O_cluster_total_cores:    4\n",
       "H2O_cluster_allowed_cores:  4\n",
       "H2O_cluster_status:         locked, healthy\n",
       "H2O_connection_url:         http://localhost:54321\n",
       "H2O_connection_proxy:       {\"http\": null, \"https\": null}\n",
       "H2O_internal_security:      False\n",
       "H2O_API_Extensions:         Amazon S3, Algos, AutoML, Core V3, TargetEncoder, Core V4\n",
       "Python_version:             3.8.5 final\n",
       "--------------------------  ---------------------------------------------------------"
      ]
     },
     "metadata": {},
     "output_type": "display_data"
    }
   ],
   "source": [
    "from pandas_profiling import ProfileReport\n",
    "import numpy as np\n",
    "import pandas as pd\n",
    "from sklearn import linear_model\n",
    "import sklearn.metrics as metrics\n",
    "import statsmodels.api as sm\n",
    "import matplotlib.pyplot as plt\n",
    "\n",
    "import h2o\n",
    "from h2o.estimators import H2ORandomForestEstimator\n",
    "from h2o.estimators import H2OGradientBoostingEstimator\n",
    "\n",
    "import cx_Oracle as ora\n",
    "import pyodbc\n",
    "\n",
    "h2o.init()\n",
    "\n",
    "training_columns = ['acquisition_week',\t'acquisition_month',\t'new_deactivation',\t'deactivation_reason_fraud',\t'deactivation_reason_stolen',\t'deactivation_reason_other',\t'deactivation_week',\t'deactivation_month',\t'deactivated',\t'active',\t'status',\t'lifetime_in_days',\t'new_contract',\t'rate_plan_name',\t'rate_plan_monthly_fee',\t'subscription_type',\t'subscription_prepaid',\t'subscription_postpaid',\t'subscription_hybrid',\t'device_type',\t'device_smartphone',\t'device_feature_phone',\t'device_basic_phone',\t'device_tablet',\t'account_balance',\t'new_bad_debt',\t'bad_debt',\t'voice_outgoing_duration_in_minutes',\t'voice_outgoing_number_of_calls',\t'voice_outgoing_billed_revenue',\t'voice_outgoing_unique_contacts',\t'voice_outgoing_international_duration_in_minutes',\t'voice_outgoing_international_number_of_calls',\t'voice_outgoing_international_billed_revenue',\t'voice_outgoing_international_unique_contacts',\t'voice_incoming_duration_in_minutes',\t'voice_incoming_number_of_calls',\t'voice_incoming_unique_contacts',\t'voice_incoming_international_duration_in_minutes',\t'voice_incoming_international_number_of_calls',\t'voice_incoming_international_unique_contacts',\t'sms_outgoing_number_of_messages',\t'sms_outgoing_billed_revenue',\t'sms_outgoing_unique_contacts',\t'unique_contacts',\t'data_mb_used',\t'data_mb_uploaded',\t'data_mb_downloaded',\t'data_active',\t'data_roaming_mb_used',\t'data_roaming_mb_downloaded',\t'products_used',\t'products_revenue',\t'products_voice_packages_bought',\t'products_voice_packages_revenue',\t'products_data_packages_bought',\t'products_data_packages_revenue',\t'products_packages_revenue',\t'products_packages_active',\t'revenue',\t'recharges_amount',\t'recharges_count',\t'network_active',\t'top_cell',\t'top_city',\t'top_region',\t'top_network_technology',\t'gross_date',\t'contract_start_dt',\t'contract_end_dt',\t'contract_length',\t'payment_expiration_date',\t'days_of_late_payment',\t'bad_debt_amount_more_0_days',\t'bad_debt_amount_more_5_days',\t'bad_debt_amount_more_10_days',\t'bad_debt_amount_more_11_days',\t'total_data_quota_in_mb',\t'total_data_balance_left_in_mb',\t'total_data_used_in_mb',\t'total_data_used_percent',\t'has_total_data_balance',\t'plan_data_quota_in_mb',\t'plan_data_balance_left_in_mb',\t'plan_data_used_in_mb',\t'plan_data_used_percent',\t'has_plan_data_balance',\t'invoice_amount',\t'other_payments_amount',\t'other_payments_quantity',\t'postpaid_unique_contacts',\t'postpaid_voice_outgoing_unique_contacts',\t'postpaid_voice_incoming_unique_contacts',\t'postpaid_sms_outgoing_unique_contacts',\t'postpaid_sms_incoming_unique_contacts', 'arpu_in_2_months',\t'edad',\t'potential_bancarizado',\t'tigo_usa',\t'tigoshop_user',\t'tipo_pago',\t'usa_asterisco_dar',\t'dispositovo_nombre_categoria',\t'has_postpaid',\t'has_home', 'actual_bank_user', 'payment_type_tigo_money', 'payment_type_payment_gateway','cashin','cashin_amount','cashout','cashout_amount','peer2peer','peer2peer_amount','service_payment','service_payment_amount','recharge','recharge_amount','monto_transaccion','wallet_30','wallet_60','wallet_90'] #,\t'cliente_identidad'\n",
    "# eliminated features: 'device_name',\t'device_vendor_name',\t'device_os_name',\n",
    "\n",
    "# response_column = 'DIGITAL_LTR'\n",
    "response_column = 'flag'\n",
    "\n",
    "user = 'BI'\n",
    "passw = 'dwhprodbi20$'\n",
    "server = 'srvdwhdb.celtel.net:1521/dwh.celtel.net'"
   ]
  },
  {
   "cell_type": "code",
   "execution_count": null,
   "id": "renewable-graduate",
   "metadata": {},
   "outputs": [],
   "source": [
    "##########READING FROM DATABASE - Mobile Metrics\n",
    "cxn = pyodbc.connect(\"DSN=hivedwh\",autocommit=True)\n",
    "\n",
    "dataList = []\n",
    "\n",
    "with open('query2.sql', 'r') as file:\n",
    "    query = file.read().replace('\\n', ' ')\n",
    "\n",
    "i = 1\n",
    "    \n",
    "for chunk in pd.read_sql_query(sql=query,con=cxn, chunksize = 200000):\n",
    "    dataList.append(chunk)\n",
    "    i = i+1\n",
    "\n",
    "data = pd.concat(dataList, ignore_index=True)\n",
    "print('dataframe len:'.format(len(data)))\n",
    "\n",
    "dataList = []\n",
    "\n",
    "data.msisdn = data.msisdn.astype(int)\n",
    "\n",
    "#del data"
   ]
  },
  {
   "cell_type": "code",
   "execution_count": null,
   "id": "herbal-hardware",
   "metadata": {},
   "outputs": [],
   "source": [
    "##########READING FROM DATABASE - MFS Metrics\n",
    "cxn_ora = ora.connect(user, passw, server)\n",
    "\n",
    "dataList = []\n",
    "\n",
    "with open('10_ora-mfs_trx.sql', 'r') as file:\n",
    "    query = file.read().replace('\\n', ' ')\n",
    "    \n",
    "for chunk in pd.read_sql(sql=query,con=cxn_ora, chunksize = 200000):\n",
    "    dataList.append(chunk)\n",
    "\n",
    "data_mfstrx01 = pd.concat(dataList, ignore_index=True)\n",
    "data_mfstrx01.columns= data_mfstrx01.columns.str.lower()\n",
    "print('dataframe len:'.format(len(data_mfstrx01)))\n",
    "\n",
    "cxn_ora.close()\n",
    "\n",
    "cxn_ora = ora.connect(user, passw, server)\n",
    "\n",
    "dataList = []\n",
    "\n",
    "with open('11_ora-wallet_users.sql', 'r') as file:\n",
    "    query = file.read().replace('\\n', ' ')\n",
    "\n",
    "print(query)\n",
    "    \n",
    "for chunk in pd.read_sql(sql=query,con=cxn_ora, chunksize = 200000):\n",
    "    dataList.append(chunk)\n",
    "\n",
    "data_mfswalletusers = pd.concat(dataList, ignore_index=True)\n",
    "data_mfswalletusers.columns= data_mfswalletusers.columns.str.lower()\n",
    "print('dataframe len:'.format(len(data_mfswalletusers)))\n",
    "\n",
    "dataList = []\n",
    "\n",
    "cxn_ora.close()\n",
    "#del data"
   ]
  },
  {
   "cell_type": "code",
   "execution_count": 24,
   "id": "polar-thailand",
   "metadata": {},
   "outputs": [],
   "source": [
    "# data = pd.read_csv(\"data4.csv\",sep=',')#, encoding='utf-16')\n",
    "# data.msisdn = data.msisdn.astype(int)\n",
    "# data = data[data['status'] == 'ACTIVE']\n",
    "\n",
    "cc_data = pd.read_csv(\"211115-contracargos.csv\",sep='\\t')#,nrows=100000)\n",
    "data_join = data.merge(cc_data, on='msisdn', how='left', indicator=False)\n",
    "del cc_data\n",
    "\n",
    "#data_mfswalletusers = pd.read_csv(\"mfs_wallet_users210812.csv\",sep=',')#,nrows=2000000)\n",
    "data_join = data_join.merge(data_mfswalletusers, on='sub_billing_id', how='left', indicator=False)\n",
    "#del data_mfswalletusers\n",
    "\n",
    "#data_mfstrx01 = pd.read_csv(\"mfs_trx210812.csv\",sep=',')#,nrows=2000000)\n",
    "data_join = data_join.merge(data_mfstrx01, on='sub_billing_id', how='left', indicator=False)\n",
    "#del data_mfstrx01\n",
    "\n",
    "##FILL NA Values\n",
    "values = {'flag': 0, 'monto': 0,'wallet_30': 0,'wallet_60': 0,'wallet_90': 0,'cashin': 0,'cashin_amount': 0,'cashout': 0,'cashout_amount': 0,'peer2peer': 0,'peer2peer_amount': 0,'service_payment': 0,'service_payment_amount': 0,'recharge': 0,'recharge_amount': 0,'tiene_movimientos_mfs': 0,'monto_transaccion': 0,'gross_date':'2999-12-31',\t'contract_start_dt':'2999-12-31',\t'contract_end_dt':'2999-12-31',\t'contract_length':0,\t'payment_expiration_date':'2999-12-31',\t'days_of_late_payment':0,\t'bad_debt_amount_more_0_days':0,\t'bad_debt_amount_more_5_days':0,\t'bad_debt_amount_more_10_days':0,\t'bad_debt_amount_more_11_days':0,\t'total_data_quota_in_mb':0,\t'total_data_balance_left_in_mb':0,\t'total_data_used_in_mb':0,\t'total_data_used_percent':0,\t'has_total_data_balance':0,\t'plan_data_quota_in_mb':0,\t'plan_data_balance_left_in_mb':0,\t'plan_data_used_in_mb':0,\t'plan_data_used_percent':0,\t'has_plan_data_balance':0,\t'postpaid_unique_contacts':0,\t'postpaid_voice_outgoing_unique_contacts':0,\t'postpaid_voice_incoming_unique_contacts':0,\t'postpaid_sms_outgoing_unique_contacts':0,\t'postpaid_sms_incoming_unique_contacts':0, 'arpu_in_2_months': 0,\t'edad': 99,\t'potential_bancarizado': 0,\t'tigo_usa': 0,\t'tigoshop_user': 0,\t'usa_asterisco_dar': 0,\t'has_postpaid': 0,\t'has_home': 0,'actual_bank_user':0, 'payment_type_tigo_money':0, 'payment_type_payment_gateway':0}\n",
    "data_join.fillna(value=values,inplace=True)\n",
    "\n",
    "# data_join.to_csv('fraud_data_joined211115.csv',index=False)\n",
    "\n",
    "# postpaid_data = data_join[data_join['tipo_pago'].isin(['PSTPAID','HBRDPAID'])]\n",
    "# postpaid_data.to_csv('fraud_data_joined211115_psp.csv',index=False)\n",
    "# del postpaid_data\n",
    "\n",
    "# prepaid_data = data_join[data_join['tipo_pago'] == 'PRPAID']\n",
    "# prepaid_data.to_csv('fraud_data_joined211115_prp.csv',index=False)\n",
    "# del prepaid_data\n",
    "\n",
    "del data"
   ]
  },
  {
   "cell_type": "code",
   "execution_count": 43,
   "id": "superior-yemen",
   "metadata": {},
   "outputs": [],
   "source": [
    "##### WALLET DATA FRAME PREPARATION\n",
    "\n",
    "\n",
    "#data_wallet = pd.read_csv(\"fraud_data_joined3.csv\",sep=',')#, encoding='utf-16')\n",
    "#data.msisdn = data_wallet.msisdn.astype(int)\n",
    "data_wallet = data_join[data_join['wallet_90'] == 1]\n",
    "data_wallet = data_wallet[data_wallet['status'] == 'ACTIVE']\n",
    "\n",
    "#data_wallet.to_csv('fraud_data_joined210812_wallet90.csv',index=False)"
   ]
  },
  {
   "cell_type": "code",
   "execution_count": 36,
   "id": "primary-racing",
   "metadata": {},
   "outputs": [
    {
     "name": "stdout",
     "output_type": "stream",
     "text": [
      "Parse progress: |█████████████████████████████████████████████████████████| 100%\n",
      "Import finalizado\n",
      "Fill NA finalizado\n",
      "ASFACTOR finalizado\n",
      "Ratios finalizado\n",
      "Training Started\n"
     ]
    },
    {
     "name": "stderr",
     "output_type": "stream",
     "text": [
      "c:\\users\\emil.ordonez\\.conda\\envs\\ccfraudtest01\\lib\\site-packages\\h2o\\estimators\\estimator_base.py:200: RuntimeWarning: Dropping bad and constant columns: [bad_debt_amount_more_10_days, plan_data_used_in_mb, plan_data_used_percent, total_data_balance_left_in_mb, bad_debt_amount_more_5_days, deactivation_reason_stolen, deactivated, wallet_90, deactivation_reason_fraud, new_deactivation, bad_debt_amount_more_11_days, has_total_data_balance, new_contract, plan_data_quota_in_mb, has_plan_data_balance, total_data_used_in_mb, active, bad_debt_amount_more_0_days, total_data_quota_in_mb, plan_data_balance_left_in_mb, total_data_used_percent, deactivation_month, deactivation_reason_other, deactivation_week, status]\n",
      "  warnings.warn(mesg[\"message\"], RuntimeWarning)\n"
     ]
    },
    {
     "name": "stdout",
     "output_type": "stream",
     "text": [
      "drf Model Build progress: |███████████████████████████████████████████████| 100%\n",
      "drf prediction progress: |████████████████████████████████████████████████| 100%\n"
     ]
    }
   ],
   "source": [
    "# h2o.init()\n",
    "\n",
    "#### TRAINING AND PRINT TESTING:\n",
    "\n",
    "datah2o_wallet = h2o.H2OFrame(data_wallet)\n",
    "# datah2o_wallet = h2o.import_file('fraud_data_joined3_wallet90.csv')\n",
    "print(\"Import finalizado\")\n",
    "\n",
    "datah2o_wallet.fillna()\n",
    "print(\"Fill NA finalizado\")\n",
    "\n",
    "datah2o_wallet[['flag']]=datah2o_wallet[['flag']].asfactor()\n",
    "datah2o_wallet[['cliente_identidad']]=datah2o_wallet[['cliente_identidad']].asfactor()\n",
    "datah2o_wallet[['potential_bancarizado']]=datah2o_wallet[['potential_bancarizado']].asfactor()\n",
    "datah2o_wallet[['actual_bank_user']]=datah2o_wallet[['actual_bank_user']].asfactor()\n",
    "print(\"ASFACTOR finalizado\")\n",
    "\n",
    "train_wallet, test_wallet = datah2o_wallet.split_frame(ratios=[0.7])\n",
    "print(\"Ratios finalizado\")\n",
    "\n",
    "##Random Forest\n",
    "model_wallet = H2ORandomForestEstimator()\n",
    "print(\"Training Started\")\n",
    "# model = H2OGradientBoostingEstimator(nfolds=3)\n",
    "# Train model\n",
    "model_wallet.train(x=training_columns, y=response_column, training_frame=train_wallet)\n",
    "\n",
    "model_wallet.save_model_details\n",
    "\n",
    "##For Tableau Analysis:\n",
    "model_wallet.predict(test_wallet).as_data_frame().to_csv('prp_test_predict_wallet211115.csv')#head()\n",
    "test_wallet[['sub_billing_id','msisdn','monto','flag', 'potential_bancarizado', 'actual_bank_user']].as_data_frame().to_csv('prp_test_real_wallet211115.csv')\n",
    "model_wallet._model_json['output']['variable_importances'].as_data_frame().to_csv(\"prp_variables_importances_wallet211115.csv\")"
   ]
  },
  {
   "cell_type": "code",
   "execution_count": 44,
   "id": "measured-contract",
   "metadata": {},
   "outputs": [
    {
     "name": "stdout",
     "output_type": "stream",
     "text": [
      "drf prediction progress: |████████████████████████████████████████████████| 100%\n"
     ]
    }
   ],
   "source": [
    "#### Wallet Users Predict: (Production)\n",
    "\n",
    "model_wallet.predict(datah2o_wallet).as_data_frame().to_csv('prp_complete_predict_wallet211115.csv')#head()\n",
    "datah2o_wallet[['sub_billing_id','msisdn','monto','flag', 'potential_bancarizado', 'actual_bank_user']].as_data_frame().to_csv('prp_complete_real_wallet211115.csv')"
   ]
  },
  {
   "cell_type": "code",
   "execution_count": 42,
   "id": "simplified-standard",
   "metadata": {},
   "outputs": [
    {
     "name": "stdout",
     "output_type": "stream",
     "text": [
      "Complete Base Reading Started\n",
      "Import finalizado\n",
      "Complete Base Output Started\n",
      "Export Real finalizado\n",
      "Complete Base Predict Started\n",
      "drf prediction progress: | (failed)\n"
     ]
    },
    {
     "ename": "OSError",
     "evalue": "Job with key $03017f00000132d4ffffffff$_81d34b887b7fc9d82872691da7074876 failed with an exception: java.lang.IllegalArgumentException: Test/Validation dataset has categorical column 'wallet_30' which is real-valued in the training data\nstacktrace: \njava.lang.IllegalArgumentException: Test/Validation dataset has categorical column 'wallet_30' which is real-valued in the training data\r\n\tat hex.Model.adaptTestForTrain(Model.java:1469)\r\n\tat hex.Model.adaptTestForTrain(Model.java:1316)\r\n\tat hex.Model.adaptTestForTrain(Model.java:1312)\r\n\tat hex.Model.score(Model.java:1606)\r\n\tat water.api.ModelMetricsHandler$1.compute2(ModelMetricsHandler.java:403)\r\n\tat water.H2O$H2OCountedCompleter.compute(H2O.java:1575)\r\n\tat jsr166y.CountedCompleter.exec(CountedCompleter.java:468)\r\n\tat jsr166y.ForkJoinTask.doExec(ForkJoinTask.java:263)\r\n\tat jsr166y.ForkJoinPool$WorkQueue.runTask(ForkJoinPool.java:974)\r\n\tat jsr166y.ForkJoinPool.runWorker(ForkJoinPool.java:1477)\r\n\tat jsr166y.ForkJoinWorkerThread.run(ForkJoinWorkerThread.java:104)\r\n",
     "output_type": "error",
     "traceback": [
      "\u001b[1;31m---------------------------------------------------------------------------\u001b[0m",
      "\u001b[1;31mOSError\u001b[0m                                   Traceback (most recent call last)",
      "\u001b[1;32m<ipython-input-42-18684d3861a8>\u001b[0m in \u001b[0;36m<module>\u001b[1;34m\u001b[0m\n\u001b[0;32m     16\u001b[0m \u001b[1;33m\u001b[0m\u001b[0m\n\u001b[0;32m     17\u001b[0m \u001b[0mprint\u001b[0m\u001b[1;33m(\u001b[0m\u001b[1;34m\"Complete Base Predict Started\"\u001b[0m\u001b[1;33m)\u001b[0m\u001b[1;33m\u001b[0m\u001b[1;33m\u001b[0m\u001b[0m\n\u001b[1;32m---> 18\u001b[1;33m \u001b[0mmodel_wallet\u001b[0m\u001b[1;33m.\u001b[0m\u001b[0mpredict\u001b[0m\u001b[1;33m(\u001b[0m\u001b[0mdatah2o_complete\u001b[0m\u001b[1;33m)\u001b[0m\u001b[1;33m.\u001b[0m\u001b[0mas_data_frame\u001b[0m\u001b[1;33m(\u001b[0m\u001b[1;33m)\u001b[0m\u001b[1;33m.\u001b[0m\u001b[0mto_csv\u001b[0m\u001b[1;33m(\u001b[0m\u001b[1;34m'prp_test_predict_complete211115.csv'\u001b[0m\u001b[1;33m)\u001b[0m\u001b[1;31m#head()\u001b[0m\u001b[1;33m\u001b[0m\u001b[1;33m\u001b[0m\u001b[0m\n\u001b[0m\u001b[0;32m     19\u001b[0m \u001b[0mprint\u001b[0m\u001b[1;33m(\u001b[0m\u001b[1;34m\"Predict y Export finalizado\"\u001b[0m\u001b[1;33m)\u001b[0m\u001b[1;33m\u001b[0m\u001b[1;33m\u001b[0m\u001b[0m\n\u001b[0;32m     20\u001b[0m \u001b[1;31m#test_prp[['sub_billing_id','msisdn_x','monto','flag', 'potential_bancarizado', 'actual_bank_user']].as_data_frame().to_csv('prp_test_real4.csv')\u001b[0m\u001b[1;33m\u001b[0m\u001b[1;33m\u001b[0m\u001b[1;33m\u001b[0m\u001b[0m\n",
      "\u001b[1;32mc:\\users\\emil.ordonez\\.conda\\envs\\ccfraudtest01\\lib\\site-packages\\h2o\\model\\model_base.py\u001b[0m in \u001b[0;36mpredict\u001b[1;34m(self, test_data, custom_metric, custom_metric_func)\u001b[0m\n\u001b[0;32m    230\u001b[0m         j = H2OJob(h2o.api(\"POST /4/Predictions/models/%s/frames/%s\" % (self.model_id, test_data.frame_id), data = {'custom_metric_func': custom_metric_func}),\n\u001b[0;32m    231\u001b[0m                    self._model_json[\"algo\"] + \" prediction\")\n\u001b[1;32m--> 232\u001b[1;33m         \u001b[0mj\u001b[0m\u001b[1;33m.\u001b[0m\u001b[0mpoll\u001b[0m\u001b[1;33m(\u001b[0m\u001b[1;33m)\u001b[0m\u001b[1;33m\u001b[0m\u001b[1;33m\u001b[0m\u001b[0m\n\u001b[0m\u001b[0;32m    233\u001b[0m         \u001b[1;32mreturn\u001b[0m \u001b[0mh2o\u001b[0m\u001b[1;33m.\u001b[0m\u001b[0mget_frame\u001b[0m\u001b[1;33m(\u001b[0m\u001b[0mj\u001b[0m\u001b[1;33m.\u001b[0m\u001b[0mdest_key\u001b[0m\u001b[1;33m)\u001b[0m\u001b[1;33m\u001b[0m\u001b[1;33m\u001b[0m\u001b[0m\n\u001b[0;32m    234\u001b[0m \u001b[1;33m\u001b[0m\u001b[0m\n",
      "\u001b[1;32mc:\\users\\emil.ordonez\\.conda\\envs\\ccfraudtest01\\lib\\site-packages\\h2o\\job.py\u001b[0m in \u001b[0;36mpoll\u001b[1;34m(self, poll_updates)\u001b[0m\n\u001b[0;32m     75\u001b[0m         \u001b[1;32mif\u001b[0m \u001b[0mself\u001b[0m\u001b[1;33m.\u001b[0m\u001b[0mstatus\u001b[0m \u001b[1;33m==\u001b[0m \u001b[1;34m\"FAILED\"\u001b[0m\u001b[1;33m:\u001b[0m\u001b[1;33m\u001b[0m\u001b[1;33m\u001b[0m\u001b[0m\n\u001b[0;32m     76\u001b[0m             \u001b[1;32mif\u001b[0m \u001b[1;33m(\u001b[0m\u001b[0misinstance\u001b[0m\u001b[1;33m(\u001b[0m\u001b[0mself\u001b[0m\u001b[1;33m.\u001b[0m\u001b[0mjob\u001b[0m\u001b[1;33m,\u001b[0m \u001b[0mdict\u001b[0m\u001b[1;33m)\u001b[0m\u001b[1;33m)\u001b[0m \u001b[1;32mand\u001b[0m \u001b[1;33m(\u001b[0m\u001b[1;34m\"stacktrace\"\u001b[0m \u001b[1;32min\u001b[0m \u001b[0mlist\u001b[0m\u001b[1;33m(\u001b[0m\u001b[0mself\u001b[0m\u001b[1;33m.\u001b[0m\u001b[0mjob\u001b[0m\u001b[1;33m)\u001b[0m\u001b[1;33m)\u001b[0m\u001b[1;33m:\u001b[0m\u001b[1;33m\u001b[0m\u001b[1;33m\u001b[0m\u001b[0m\n\u001b[1;32m---> 77\u001b[1;33m                 raise EnvironmentError(\"Job with key {} failed with an exception: {}\\nstacktrace: \"\n\u001b[0m\u001b[0;32m     78\u001b[0m                                        \"\\n{}\".format(self.job_key, self.exception, self.job[\"stacktrace\"]))\n\u001b[0;32m     79\u001b[0m             \u001b[1;32melse\u001b[0m\u001b[1;33m:\u001b[0m\u001b[1;33m\u001b[0m\u001b[1;33m\u001b[0m\u001b[0m\n",
      "\u001b[1;31mOSError\u001b[0m: Job with key $03017f00000132d4ffffffff$_81d34b887b7fc9d82872691da7074876 failed with an exception: java.lang.IllegalArgumentException: Test/Validation dataset has categorical column 'wallet_30' which is real-valued in the training data\nstacktrace: \njava.lang.IllegalArgumentException: Test/Validation dataset has categorical column 'wallet_30' which is real-valued in the training data\r\n\tat hex.Model.adaptTestForTrain(Model.java:1469)\r\n\tat hex.Model.adaptTestForTrain(Model.java:1316)\r\n\tat hex.Model.adaptTestForTrain(Model.java:1312)\r\n\tat hex.Model.score(Model.java:1606)\r\n\tat water.api.ModelMetricsHandler$1.compute2(ModelMetricsHandler.java:403)\r\n\tat water.H2O$H2OCountedCompleter.compute(H2O.java:1575)\r\n\tat jsr166y.CountedCompleter.exec(CountedCompleter.java:468)\r\n\tat jsr166y.ForkJoinTask.doExec(ForkJoinTask.java:263)\r\n\tat jsr166y.ForkJoinPool$WorkQueue.runTask(ForkJoinPool.java:974)\r\n\tat jsr166y.ForkJoinPool.runWorker(ForkJoinPool.java:1477)\r\n\tat jsr166y.ForkJoinWorkerThread.run(ForkJoinWorkerThread.java:104)\r\n"
     ]
    }
   ],
   "source": [
    "#Full Base predict:\n",
    "\n",
    "#del datah2o_prp\n",
    "#del test_prp\n",
    "#del train_prp\n",
    "\n",
    "####Correr una de las 2 cargas de dataframe (desde archivo o desde otro dataframe)\n",
    "print(\"Complete Base Reading Started\")\n",
    "#datah2o_complete = h2o.import_file('fraud_data_joined210812.csv')\n",
    "#datah2o_complete = h2o.H2OFrame(data_join)\n",
    "print(\"Import finalizado\")\n",
    "\n",
    "print(\"Complete Base Output Started\")\n",
    "#datah2o_complete[['sub_billing_id','msisdn','monto','flag', 'potential_bancarizado', 'actual_bank_user']].as_data_frame().to_csv('prp_complete_real211115.csv')\n",
    "print(\"Export Real finalizado\")\n",
    "\n",
    "print(\"Complete Base Predict Started\")\n",
    "model_wallet.predict(datah2o_complete).as_data_frame().to_csv('prp_test_predict_complete211115.csv')#head()\n",
    "print(\"Predict y Export finalizado\")\n",
    "#test_prp[['sub_billing_id','msisdn_x','monto','flag', 'potential_bancarizado', 'actual_bank_user']].as_data_frame().to_csv('prp_test_real4.csv')\n",
    "#model_prp._model_json['output']['variable_importances'].as_data_frame().to_csv(\"prp_variables_importances4.csv\")"
   ]
  },
  {
   "cell_type": "code",
   "execution_count": null,
   "id": "subjective-helping",
   "metadata": {},
   "outputs": [],
   "source": [
    "#h2o.shutdown()"
   ]
  },
  {
   "cell_type": "code",
   "execution_count": null,
   "id": "excellent-extra",
   "metadata": {},
   "outputs": [],
   "source": [
    "#del datah2o_prp\n",
    "#del model_prp\n",
    "#del test_prp\n",
    "#del train_prp"
   ]
  },
  {
   "cell_type": "code",
   "execution_count": null,
   "id": "complete-excerpt",
   "metadata": {},
   "outputs": [],
   "source": [
    "whos"
   ]
  }
 ],
 "metadata": {
  "kernelspec": {
   "display_name": "Python 3",
   "language": "python",
   "name": "python3"
  },
  "language_info": {
   "codemirror_mode": {
    "name": "ipython",
    "version": 3
   },
   "file_extension": ".py",
   "mimetype": "text/x-python",
   "name": "python",
   "nbconvert_exporter": "python",
   "pygments_lexer": "ipython3",
   "version": "3.8.5"
  }
 },
 "nbformat": 4,
 "nbformat_minor": 5
}
